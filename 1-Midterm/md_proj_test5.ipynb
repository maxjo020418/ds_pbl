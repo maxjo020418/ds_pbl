{
 "cells": [
  {
   "cell_type": "code",
   "execution_count": null,
   "id": "b8d4330b",
   "metadata": {},
   "outputs": [],
   "source": [
    "import os\n",
    "import sys\n",
    "this_dir = os.path.dirname(os.path.abspath(__file__))\n",
    "root_dir = os.path.abspath(os.path.join(this_dir, '..'))\n",
    "sys.path.insert(0, root_dir)\n",
    "\n",
    "from utils.DB_connect import get_engine, get_cred\n",
    "engine = get_engine()\n",
    "_, N_ID, N_PW, _, _ = get_cred()"
   ]
  },
  {
   "cell_type": "code",
   "execution_count": 12,
   "id": "89fe3f84",
   "metadata": {},
   "outputs": [
    {
     "name": "stdout",
     "output_type": "stream",
     "text": [
      "{'lastBuildDate': 'Sun, 15 Jun 2025 20:37:52 +0900', 'total': 14286, 'start': 1, 'display': 10, 'items': [{'title': '강남구립 <b>역삼도서관</b>, 역삼푸른솔도서관과 다른 곳이에요^^', 'link': 'https://blog.naver.com/wnsdlgusdlaka/223406171866', 'description': '도서관에서 추천한 책이 놓여져 있더라구요 엘리베이터에서 오른쪽으로 보시면 <b>역삼도서관</b>이 보입니다 역삼푸른솔도서관이 밝은 분위기였다면, 여긴 약간 무게감이 있어보이네요 어두운 컬러로 되어 있어서... ', 'bloggername': 'Teresa 의 사는 이야기~~', 'bloggerlink': 'blog.naver.com/wnsdlgusdlaka', 'postdate': '20240405'}, {'title': '<b>역삼도서관</b> 청춘의 밥벌이 마지막! 청소하면서 그림 그리는... ', 'link': 'https://blog.naver.com/venti_mandu/223144248426', 'description': '아니면 강남 <b>역삼도서관</b>에서 우회해서 진해장으로…? (햄토리 담당자님 진해장에서 회식 추천드려요.... 후 역삼푸른솔도서관으로 향했다. (➕3분 안에 퇴근 안 하면 3시간 뒤에 보내겠다는 리더님..이런 협박은... ', 'bloggername': '육즙가득 벤티사이즈만두', 'bloggerlink': 'blog.naver.com/venti_mandu', 'postdate': '20230702'}, {'title': '강남구립 <b>역삼도서관</b>｜공부하기 좋은 도서관, 생각보다 책도... ', 'link': 'https://blog.naver.com/todnav2/223845063521', 'description': '요즘 공부 + 독서 함께 할 수 있는 공간 찾기 점점 힘들어지고 있죠 ㅠㅠ 도서관들이 점점 열람실 운영을... 위치&amp;외부모습 <b>역삼도서관</b>은 역삼역에서 그리 멀지 않은 거리에 있어요. 역삼 문화센터, 주민센터가... ', 'bloggername': '오늘은 나에게, 내일은 너에게', 'bloggerlink': 'blog.naver.com/todnav2', 'postdate': '20250424'}, {'title': '강남구 <b>역삼도서관</b> 이용방법 직접 방문 해봤어요', 'link': 'https://blog.naver.com/cherie_bbing/223333520991', 'description': '역삼1동주민센터에 위치해 있는 <b>역삼도서관</b>! 생각보다 제가 집순이라서 그런지 그동안 5년 넘게 살아오면서 도서관에 관심이 없었다니!!! 강남구 <b>역삼도서관</b>은 주민센터 5층에 위치해 있고 엘리베이터가 있어서... ', 'bloggername': 'ʚ♥ɞ 일상을 여행처럼, 여행을 일상처럼 ʚ♥ɞ', 'bloggerlink': 'blog.naver.com/cherie_bbing', 'postdate': '20240126'}, {'title': '최애 힐링스팟 강남구 <b>역삼도서관</b>', 'link': 'https://blog.naver.com/dulcinea_h/223533384967', 'description': '<b>역삼도서관</b>인데여~ 역삼 1동 주민센터 5층에 위치해있슴당 1층에 주민센터 업무 보는 것 외에 전시도... 엘리베이터를 타고 5층에서 내리면 오른쪽이 도서관이에요! 왼편은 외국인 센터(?)가 있더라고요... ', 'bloggername': '@yooniverce', 'bloggerlink': 'blog.naver.com/dulcinea_h', 'postdate': '20240801'}, {'title': '<b>역삼 도서관</b> 주민센터 이용안내 (시간 주차 휴관일 회원제)', 'link': 'https://blog.naver.com/nayulhani/223462768428', 'description': '감사합니다~ #<b>역삼도서관</b> #<b>역삼도서관</b>시간 #역삼동주민센터 #<b>역삼도서관</b>시간 #강남도서관 #<b>역삼도서관</b>시간 #<b>역삼도서관</b>주차 #역삼독서실 #<b>역삼도서관</b>지정좌석 #역삼역도서관 #역삼무료도서관 #도서관... ', 'bloggername': '나율한의원', 'bloggerlink': 'blog.naver.com/nayulhani', 'postdate': '20240529'}, {'title': \"[<b>역삼도서관</b>]그림책으로 마음 안아주기 - '감정의 확장 예방과... \", 'link': 'https://blog.naver.com/7monaco/223288478291', 'description': '오늘도 감사합니다. 역삼2작은도서관 ㅣ <b>역삼도서관</b> 그림책으로 마음안아주기 감정코칭 ㅣ 그림책테라피 욕구찾기 강사가 천직인 은정이 강의할땐 아픈 것도 잊어요 독서치료전문가김은정 그림책심리치유전문가', 'bloggername': 'e움심리상담연구소', 'bloggerlink': 'blog.naver.com/7monaco', 'postdate': '20231210'}, {'title': '강남역 10분 거리 깨끗하고 쾌적한 &quot;<b>역삼 도서관</b>&quot; 탐방기... ', 'link': 'https://blog.naver.com/zigoo_alien/223552437391', 'description': '주소 : 서울특별시 강남구 역삼로 7길 16 (5층)  전화 : 02-508-1139  휴관일 : 매주 월요일, (일요일을... 근접한 <b>역삼도서관</b>에 갔다. 도서관만 있는 건물이 아니라 주민센터, 헬스장, 문화교실 등 복합적으로 이용할... ', 'bloggername': '찌구외계인의 먹고사는 일상♪', 'bloggerlink': 'blog.naver.com/zigoo_alien', 'postdate': '20240819'}, {'title': '<b>역삼도서관</b> 위치 주차 운영 시간 및 휴관일 시설 등 정리', 'link': 'https://blog.naver.com/somanylife/223244278313', 'description': '시설 먼저 <b>역삼 도서관</b>은 역삼1동 주민센터 5층에 위치한 작은 도서관이기 때문에 아쉽게도 다양한 체험을 즐길 수 있는 시설은 많이 부족한 특징을 가지고 있습니다. 하지만 비교적 최근에 개관한... ', 'bloggername': '여러분의 일상은 어떠세요?', 'bloggerlink': 'blog.naver.com/somanylife', 'postdate': '20231027'}, {'title': '도서관 경험 비교 <b>역삼도서관</b>... 즐거운도서관, 역삼푸른솔도서... ', 'link': 'https://blog.naver.com/raralove54/223574394101', 'description': '^^ 역삼 푸른솔도서관 <b>역삼도서관</b>과 도보 5분거리에 있는 역삼 푸른솔도서관. 4층에 있고, 주차는 갈 때마다 늘 만차였지만 주차 2시간 무료다!! 도서관 사서 분의 무료주차 입력 필수. 최대 장점은 어린이 창작... ', 'bloggername': '대치맘 긍정 교육', 'bloggerlink': 'blog.naver.com/raralove54', 'postdate': '20240906'}]}\n"
     ]
    }
   ],
   "source": [
    "import requests\n",
    "\n",
    "url = \"https://openapi.naver.com/v1/search/blog.json\"\n",
    "\n",
    "headers = {\n",
    "    \"X-Naver-Client-Id\": N_ID,\n",
    "    \"X-Naver-Client-Secret\": N_PW,\n",
    "    \"User-Agent\": \"curl/7.49.1\",\n",
    "    \"Accept\": \"*/*\"\n",
    "}\n",
    "\n",
    "params = {\n",
    "    \"query\": \"역삼도서관\",\n",
    "    \"display\": 10,\n",
    "    \"start\": 1\n",
    "}\n",
    "\n",
    "response = requests.get(url, headers=headers, params=params)\n",
    "response.raise_for_status()\n",
    "\n",
    "# The API returns XML in response.text\n",
    "print(response.json())\n"
   ]
  },
  {
   "cell_type": "code",
   "execution_count": 13,
   "id": "a11d4155",
   "metadata": {},
   "outputs": [
    {
     "name": "stdout",
     "output_type": "stream",
     "text": [
      "{'display': 10,\n",
      " 'items': [{'bloggerlink': 'blog.naver.com/wnsdlgusdlaka',\n",
      "            'bloggername': 'Teresa 의 사는 이야기~~',\n",
      "            'description': '도서관에서 추천한 책이 놓여져 있더라구요 엘리베이터에서 오른쪽으로 보시면 '\n",
      "                           '<b>역삼도서관</b>이 보입니다 역삼푸른솔도서관이 밝은 분위기였다면, 여긴 약간 무게감이 '\n",
      "                           '있어보이네요 어두운 컬러로 되어 있어서... ',\n",
      "            'link': 'https://blog.naver.com/wnsdlgusdlaka/223406171866',\n",
      "            'postdate': '20240405',\n",
      "            'title': '강남구립 <b>역삼도서관</b>, 역삼푸른솔도서관과 다른 곳이에요^^'},\n",
      "           {'bloggerlink': 'blog.naver.com/venti_mandu',\n",
      "            'bloggername': '육즙가득 벤티사이즈만두',\n",
      "            'description': '아니면 강남 <b>역삼도서관</b>에서 우회해서 진해장으로…? (햄토리 담당자님 진해장에서 '\n",
      "                           '회식 추천드려요.... 후 역삼푸른솔도서관으로 향했다. (➕3분 안에 퇴근 안 하면 3시간 '\n",
      "                           '뒤에 보내겠다는 리더님..이런 협박은... ',\n",
      "            'link': 'https://blog.naver.com/venti_mandu/223144248426',\n",
      "            'postdate': '20230702',\n",
      "            'title': '<b>역삼도서관</b> 청춘의 밥벌이 마지막! 청소하면서 그림 그리는... '},\n",
      "           {'bloggerlink': 'blog.naver.com/todnav2',\n",
      "            'bloggername': '오늘은 나에게, 내일은 너에게',\n",
      "            'description': '요즘 공부 + 독서 함께 할 수 있는 공간 찾기 점점 힘들어지고 있죠 ㅠㅠ 도서관들이 점점 '\n",
      "                           '열람실 운영을... 위치&amp;외부모습 <b>역삼도서관</b>은 역삼역에서 그리 멀지 '\n",
      "                           '않은 거리에 있어요. 역삼 문화센터, 주민센터가... ',\n",
      "            'link': 'https://blog.naver.com/todnav2/223845063521',\n",
      "            'postdate': '20250424',\n",
      "            'title': '강남구립 <b>역삼도서관</b>｜공부하기 좋은 도서관, 생각보다 책도... '},\n",
      "           {'bloggerlink': 'blog.naver.com/cherie_bbing',\n",
      "            'bloggername': 'ʚ♥ɞ 일상을 여행처럼, 여행을 일상처럼 ʚ♥ɞ',\n",
      "            'description': '역삼1동주민센터에 위치해 있는 <b>역삼도서관</b>! 생각보다 제가 집순이라서 그런지 '\n",
      "                           '그동안 5년 넘게 살아오면서 도서관에 관심이 없었다니!!! 강남구 <b>역삼도서관</b>은 '\n",
      "                           '주민센터 5층에 위치해 있고 엘리베이터가 있어서... ',\n",
      "            'link': 'https://blog.naver.com/cherie_bbing/223333520991',\n",
      "            'postdate': '20240126',\n",
      "            'title': '강남구 <b>역삼도서관</b> 이용방법 직접 방문 해봤어요'},\n",
      "           {'bloggerlink': 'blog.naver.com/dulcinea_h',\n",
      "            'bloggername': '@yooniverce',\n",
      "            'description': '<b>역삼도서관</b>인데여~ 역삼 1동 주민센터 5층에 위치해있슴당 1층에 주민센터 업무 '\n",
      "                           '보는 것 외에 전시도... 엘리베이터를 타고 5층에서 내리면 오른쪽이 도서관이에요! 왼편은 '\n",
      "                           '외국인 센터(?)가 있더라고요... ',\n",
      "            'link': 'https://blog.naver.com/dulcinea_h/223533384967',\n",
      "            'postdate': '20240801',\n",
      "            'title': '최애 힐링스팟 강남구 <b>역삼도서관</b>'},\n",
      "           {'bloggerlink': 'blog.naver.com/nayulhani',\n",
      "            'bloggername': '나율한의원',\n",
      "            'description': '감사합니다~ #<b>역삼도서관</b> #<b>역삼도서관</b>시간 #역삼동주민센터 '\n",
      "                           '#<b>역삼도서관</b>시간 #강남도서관 #<b>역삼도서관</b>시간 '\n",
      "                           '#<b>역삼도서관</b>주차 #역삼독서실 #<b>역삼도서관</b>지정좌석 #역삼역도서관 '\n",
      "                           '#역삼무료도서관 #도서관... ',\n",
      "            'link': 'https://blog.naver.com/nayulhani/223462768428',\n",
      "            'postdate': '20240529',\n",
      "            'title': '<b>역삼 도서관</b> 주민센터 이용안내 (시간 주차 휴관일 회원제)'},\n",
      "           {'bloggerlink': 'blog.naver.com/7monaco',\n",
      "            'bloggername': 'e움심리상담연구소',\n",
      "            'description': '오늘도 감사합니다. 역삼2작은도서관 ㅣ <b>역삼도서관</b> 그림책으로 마음안아주기 '\n",
      "                           '감정코칭 ㅣ 그림책테라피 욕구찾기 강사가 천직인 은정이 강의할땐 아픈 것도 잊어요 '\n",
      "                           '독서치료전문가김은정 그림책심리치유전문가',\n",
      "            'link': 'https://blog.naver.com/7monaco/223288478291',\n",
      "            'postdate': '20231210',\n",
      "            'title': \"[<b>역삼도서관</b>]그림책으로 마음 안아주기 - '감정의 확장 예방과... \"},\n",
      "           {'bloggerlink': 'blog.naver.com/zigoo_alien',\n",
      "            'bloggername': '찌구외계인의 먹고사는 일상♪',\n",
      "            'description': '주소 : 서울특별시 강남구 역삼로 7길 16 (5층)  전화 : 02-508-1139  '\n",
      "                           '휴관일 : 매주 월요일, (일요일을... 근접한 <b>역삼도서관</b>에 갔다. 도서관만 '\n",
      "                           '있는 건물이 아니라 주민센터, 헬스장, 문화교실 등 복합적으로 이용할... ',\n",
      "            'link': 'https://blog.naver.com/zigoo_alien/223552437391',\n",
      "            'postdate': '20240819',\n",
      "            'title': '강남역 10분 거리 깨끗하고 쾌적한 &quot;<b>역삼 도서관</b>&quot; 탐방기... '},\n",
      "           {'bloggerlink': 'blog.naver.com/somanylife',\n",
      "            'bloggername': '여러분의 일상은 어떠세요?',\n",
      "            'description': '시설 먼저 <b>역삼 도서관</b>은 역삼1동 주민센터 5층에 위치한 작은 도서관이기 '\n",
      "                           '때문에 아쉽게도 다양한 체험을 즐길 수 있는 시설은 많이 부족한 특징을 가지고 있습니다. '\n",
      "                           '하지만 비교적 최근에 개관한... ',\n",
      "            'link': 'https://blog.naver.com/somanylife/223244278313',\n",
      "            'postdate': '20231027',\n",
      "            'title': '<b>역삼도서관</b> 위치 주차 운영 시간 및 휴관일 시설 등 정리'},\n",
      "           {'bloggerlink': 'blog.naver.com/raralove54',\n",
      "            'bloggername': '대치맘 긍정 교육',\n",
      "            'description': '^^ 역삼 푸른솔도서관 <b>역삼도서관</b>과 도보 5분거리에 있는 역삼 푸른솔도서관. '\n",
      "                           '4층에 있고, 주차는 갈 때마다 늘 만차였지만 주차 2시간 무료다!! 도서관 사서 분의 '\n",
      "                           '무료주차 입력 필수. 최대 장점은 어린이 창작... ',\n",
      "            'link': 'https://blog.naver.com/raralove54/223574394101',\n",
      "            'postdate': '20240906',\n",
      "            'title': '도서관 경험 비교 <b>역삼도서관</b>... 즐거운도서관, 역삼푸른솔도서... '}],\n",
      " 'lastBuildDate': 'Sun, 15 Jun 2025 20:37:52 +0900',\n",
      " 'start': 1,\n",
      " 'total': 14286}\n"
     ]
    }
   ],
   "source": [
    "from pprint import pprint\n",
    "pprint(response.json())"
   ]
  },
  {
   "cell_type": "code",
   "execution_count": null,
   "id": "e2b53854",
   "metadata": {},
   "outputs": [],
   "source": []
  }
 ],
 "metadata": {
  "kernelspec": {
   "display_name": ".venv",
   "language": "python",
   "name": "python3"
  },
  "language_info": {
   "codemirror_mode": {
    "name": "ipython",
    "version": 3
   },
   "file_extension": ".py",
   "mimetype": "text/x-python",
   "name": "python",
   "nbconvert_exporter": "python",
   "pygments_lexer": "ipython3",
   "version": "3.12.3"
  }
 },
 "nbformat": 4,
 "nbformat_minor": 5
}
