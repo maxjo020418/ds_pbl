{
 "cells": [
  {
   "cell_type": "code",
   "execution_count": 17,
   "id": "81af0278",
   "metadata": {},
   "outputs": [],
   "source": [
    "from tqdm.notebook import tqdm\n",
    "import re\n",
    "from collections import Counter\n",
    "import math\n",
    "import pickle\n",
    "\n",
    "from sqlalchemy import text\n",
    "from collections import defaultdict\n",
    "\n",
    "from konlpy.tag import Okt\n",
    "okt = Okt()\n",
    "\n",
    "from utils.DB_connect import get_engine\n",
    "engine = get_engine()"
   ]
  },
  {
   "cell_type": "code",
   "execution_count": 3,
   "id": "46172d73",
   "metadata": {},
   "outputs": [],
   "source": [
    "def preprocess_txt(corpus: str):\n",
    "    # remove tab\n",
    "    txt_clean = re.sub(r'\\s+', ' ', corpus).strip()\n",
    "    # remove NBSP\n",
    "    txt_clean = txt_clean.replace('\\xa0', ' ')\n",
    "    # remove invis char\n",
    "    txt_clean = txt_clean.replace('\\u200b', '')\n",
    "    # remove ZWSP\n",
    "    txt_clean = re.sub(r'[\\u200B]', '', txt_clean)\n",
    "    # remove html elements\n",
    "    txt_clean = re.sub(r'<.*?>', '', txt_clean)\n",
    "\n",
    "    # norm=True applies orthographic normalization\n",
    "    # stem=True reduces to word stem\n",
    "    lemmas = [(token, pos) for token, pos in okt.pos(txt_clean, norm=True, stem=True)]\n",
    "    # 특수문자 제거\n",
    "    lemmas_clean = [(re.sub(r'[^가-힣a-zA-Z\\s]', '', t), p) for t, p in lemmas]\n",
    "    # 한개짜리 단어 제거\n",
    "    lemmas_clean = [(t, p) for t, p in lemmas_clean if len(t) > 1]\n",
    "    \n",
    "    use_pos = [\n",
    "        'Noun',\n",
    "        #'Verb',\n",
    "        # 'Adjective',\n",
    "        'Hashtag',\n",
    "    ]\n",
    "    lemmas_clean = [kw for kw, pos in lemmas_clean\n",
    "                    if pos in use_pos]\n",
    "\n",
    "    word_counts = {w: c for w, c in Counter(lemmas_clean).items()}\n",
    "\n",
    "    return word_counts"
   ]
  },
  {
   "cell_type": "code",
   "execution_count": 4,
   "id": "1f8dd036",
   "metadata": {},
   "outputs": [
    {
     "data": {
      "application/vnd.jupyter.widget-view+json": {
       "model_id": "4823a919cd2744bf8e4e30ad1fb5f279",
       "version_major": 2,
       "version_minor": 0
      },
      "text/plain": [
       "  0%|          | 0/17313 [00:00<?, ?it/s]"
      ]
     },
     "metadata": {},
     "output_type": "display_data"
    }
   ],
   "source": [
    "with engine.connect() as conn:\n",
    "    data_len = conn.execute(text(\n",
    "        \"SELECT COUNT(*) FROM library_reviews\"\n",
    "    )).all()[0][0]\n",
    "    result = conn.execute(text(\n",
    "        \"SELECT `library_id`, `review` FROM library_reviews\"\n",
    "    ))\n",
    "\n",
    "review_processed = [([row[0], preprocess_txt(row[1])]) for row in tqdm(result, total=data_len)]"
   ]
  },
  {
   "cell_type": "code",
   "execution_count": 11,
   "id": "77f8fec0",
   "metadata": {},
   "outputs": [
    {
     "data": {
      "text/plain": [
       "[5,\n",
       " {'용흥': 1,\n",
       "  '중앙': 1,\n",
       "  '용흥동': 2,\n",
       "  '분양': 2,\n",
       "  '전환': 1,\n",
       "  '아파트': 1,\n",
       "  '가이드': 1,\n",
       "  '포항시': 1,\n",
       "  '북구': 1,\n",
       "  '사업': 1,\n",
       "  '골프': 1,\n",
       "  '연습장': 1,\n",
       "  '도서관': 1,\n",
       "  '사우나': 1,\n",
       "  '여러': 1,\n",
       "  '가지': 1,\n",
       "  '공간': 1,\n",
       "  '계획': 1,\n",
       "  '코인': 1,\n",
       "  '세탁실': 1}]"
      ]
     },
     "execution_count": 11,
     "metadata": {},
     "output_type": "execute_result"
    }
   ],
   "source": [
    "review_processed[0]"
   ]
  },
  {
   "cell_type": "code",
   "execution_count": 12,
   "id": "917dc8d8",
   "metadata": {},
   "outputs": [],
   "source": [
    "def get_tf_idf(docs: list[dict]):\n",
    "    _word_list = list(set(  # 중복제거\n",
    "        [k for blog in docs for k, _ in blog.items()]\n",
    "    ))\n",
    "\n",
    "    df_scores = [(w, len([True for blog in docs if w in blog])) for w in _word_list]\n",
    "\n",
    "    doc_len = len(docs)\n",
    "    idf_scores = [(w, math.log(doc_len / (1 + df)) ) for w, df in df_scores]\n",
    "\n",
    "    total_tf_idf_top = list()\n",
    "    for blog in docs:  # 각 document(blog)에 대한 TF-IDF점수를 구할 수 있음.\n",
    "        tf_scores = [(w, blog.get(w, 0)) for w in _word_list]\n",
    "        tfidf_scores = [(tf[0], tf[1] * idf[1]) for tf, idf in zip(tf_scores, idf_scores) if tf[1] > 0]\n",
    "\n",
    "        tfidf_scores_top = sorted(tfidf_scores, key=lambda x: x[1], reverse=True)[:10]  # top 10\n",
    "        total_tf_idf_top += tfidf_scores_top\n",
    "\n",
    "    total_tf_idf_top.sort(key=lambda x: x[1], reverse=True)\n",
    "    return total_tf_idf_top[:5]"
   ]
  },
  {
   "cell_type": "code",
   "execution_count": 13,
   "id": "366abd1a",
   "metadata": {},
   "outputs": [
    {
     "data": {
      "text/plain": [
       "[('중개사', 2.7488721956224653),\n",
       " ('공인', 2.7488721956224653),\n",
       " ('사무소', 2.7488721956224653),\n",
       " ('신태인', 2.7488721956224653),\n",
       " ('용흥동', 1.8325814637483102)]"
      ]
     },
     "execution_count": 13,
     "metadata": {},
     "output_type": "execute_result"
    }
   ],
   "source": [
    "get_tf_idf([v for _, v in review_processed[:5]])"
   ]
  },
  {
   "cell_type": "code",
   "execution_count": 14,
   "id": "107b1b35",
   "metadata": {},
   "outputs": [],
   "source": [
    "grouped = defaultdict(list)\n",
    "for lib_id, review in review_processed:\n",
    "    grouped[lib_id].append(review)"
   ]
  },
  {
   "cell_type": "code",
   "execution_count": 25,
   "id": "f9a1ad9d",
   "metadata": {},
   "outputs": [],
   "source": [
    "tfidf_per_lib = {i: get_tf_idf(lib_review) for i, lib_review in grouped.items()}"
   ]
  },
  {
   "cell_type": "code",
   "execution_count": 27,
   "id": "52ff595b",
   "metadata": {},
   "outputs": [
    {
     "name": "stdout",
     "output_type": "stream",
     "text": [
      "[('버드', 2.7488721956224653), ('개나리', 1.8325814637483102), ('중앙', 1.8325814637483102), ('잇님들', 0.9162907318741551), ('이번', 0.9162907318741551)]\n",
      "[('강동', 1.8325814637483102), ('이용', 1.8325814637483102), ('성내', 1.0216512475319814), ('별관', 1.0216512475319814), ('본관', 1.0216512475319814)]\n",
      "[('설치', 1.8325814637483102), ('참여', 1.8325814637483102), ('부대', 1.8325814637483102), ('해병대', 1.8325814637483102), ('자원봉사', 1.8325814637483102)]\n",
      "[('여기', 1.8325814637483102), ('서울시', 1.8325814637483102), ('호공', 1.0216512475319814), ('한강', 0.9162907318741551), ('정류장', 0.9162907318741551)]\n",
      "[('재개발', 1.8325814637483102), ('세대', 1.8325814637483102), ('대수', 1.8325814637483102), ('설명', 1.8325814637483102), ('주민', 1.5324768712979722)]\n",
      "[('아주', 1.8325814637483102), ('동작', 0.9162907318741551), ('동사무소', 0.9162907318741551), ('부슬부슬', 0.9162907318741551), ('진성', 0.9162907318741551)]\n",
      "[('얼굴', 2.7488721956224653), ('전쟁', 2.7488721956224653), ('도서', 1.8325814637483102), ('진행', 1.8325814637483102), ('수업', 1.8325814637483102)]\n",
      "[('서비스', 2.7488721956224653), ('열람', 1.8325814637483102), ('빗살무늬토기', 1.8325814637483102), ('강동구', 1.8325814637483102), ('접수', 1.8325814637483102)]\n",
      "[('육아', 3.6651629274966204), ('대출', 1.8325814637483102), ('자녀', 1.8325814637483102), ('공동', 1.8325814637483102), ('임신', 1.8325814637483102)]\n",
      "[('공간', 1.0216512475319814), ('고해', 0.9162907318741551), ('부산', 0.9162907318741551), ('기장군', 0.9162907318741551), ('자원', 0.9162907318741551)]\n",
      "[('시공', 1.8325814637483102), ('발생', 1.8325814637483102), ('둔촌동역', 1.8325814637483102), ('장점', 0.9162907318741551), ('지은', 0.9162907318741551)]\n",
      "[('대구광역시', 3.6651629274966204), ('사무소', 2.7488721956224653), ('중개사', 2.7488721956224653), ('공인', 2.7488721956224653), ('스마트', 1.8325814637483102)]\n",
      "[('접수', 2.7488721956224653), ('이용', 1.8325814637483102), ('관일', 1.8325814637483102), ('프로그램', 1.8325814637483102), ('신청', 1.8325814637483102)]\n",
      "[('치매', 3.6651629274966204), ('도서', 2.7488721956224653), ('봉담', 1.8325814637483102), ('추가', 1.8325814637483102), ('복선', 1.8325814637483102)]\n",
      "[('내부', 1.8325814637483102), ('수업', 1.8325814637483102), ('남구', 1.8325814637483102), ('마크', 1.8325814637483102), ('은하수', 1.8325814637483102)]\n",
      "[('로컬', 1.8325814637483102), ('달팽이', 1.8325814637483102), ('독서', 0.9162907318741551), ('뒤편', 0.9162907318741551), ('검색', 0.9162907318741551)]\n",
      "[('치매', 3.6651629274966204), ('제품', 1.8325814637483102), ('설치', 1.8325814637483102), ('추가', 1.8325814637483102), ('복선', 1.8325814637483102)]\n",
      "[('정보', 1.8325814637483102), ('동네', 1.0216512475319814), ('우리동네', 1.0216512475319814), ('관심', 0.9162907318741551), ('시나', 0.9162907318741551)]\n",
      "[('점심시간', 1.8325814637483102), ('한번', 1.8325814637483102), ('흥부', 1.0216512475319814), ('흥부', 1.0216512475319814), ('규모', 0.9162907318741551)]\n",
      "[('알렉', 1.8325814637483102), ('방문', 1.8325814637483102), ('초등학교', 1.8325814637483102), ('상지', 1.8325814637483102), ('아들', 0.9162907318741551)]\n",
      "[('고부면', 1.8325814637483102), ('병원', 1.8325814637483102), ('수립', 0.9162907318741551), ('계획', 0.9162907318741551), ('견학', 0.9162907318741551)]\n",
      "[('아산', 4.5814536593707755), ('아산시', 1.8325814637483102), ('주말', 1.8325814637483102), ('아산도서관', 1.8325814637483102), ('아이', 1.8325814637483102)]\n",
      "[('복지', 2.7488721956224653), ('상록', 2.7488721956224653), ('시절', 1.8325814637483102), ('활동', 1.8325814637483102), ('구청', 1.8325814637483102)]\n",
      "[('주차장', 1.8325814637483102), ('이용', 1.0216512475319814), ('시간', 1.0216512475319814), ('자료', 0.9162907318741551), ('인천', 0.9162907318741551)]\n",
      "\n"
     ]
    }
   ],
   "source": [
    "[print(tfidf_per_lib[n]) for n in range(1, 25)]\n",
    "print()"
   ]
  },
  {
   "cell_type": "code",
   "execution_count": 28,
   "id": "18a377ef",
   "metadata": {},
   "outputs": [],
   "source": [
    "with open('./data/tfidf_score.pkl', 'wb') as f:\n",
    "    pickle.dump(tfidf_per_lib, f)"
   ]
  },
  {
   "cell_type": "code",
   "execution_count": null,
   "id": "694819a3",
   "metadata": {},
   "outputs": [],
   "source": []
  }
 ],
 "metadata": {
  "kernelspec": {
   "display_name": ".venv",
   "language": "python",
   "name": "python3"
  },
  "language_info": {
   "codemirror_mode": {
    "name": "ipython",
    "version": 3
   },
   "file_extension": ".py",
   "mimetype": "text/x-python",
   "name": "python",
   "nbconvert_exporter": "python",
   "pygments_lexer": "ipython3",
   "version": "3.12.3"
  }
 },
 "nbformat": 4,
 "nbformat_minor": 5
}
